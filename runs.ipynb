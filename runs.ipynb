{
 "cells": [
  {
   "cell_type": "code",
   "execution_count": 2,
   "metadata": {
    "collapsed": true,
    "pycharm": {
     "is_executing": false
    }
   },
   "outputs": [],
   "source": [
    "from controller import read_file, to_string, get_result\n",
    "data=read_file()"
   ]
  },
  {
   "cell_type": "code",
   "execution_count": 4,
   "outputs": [
    {
     "name": "stdout",
     "text": [
      "0.063\n",
      "f(a, b, c, d) = 2.000 * a + 3.999 * b + 2.998 * c + -1.999 * d + 3.014\n"
     ],
     "output_type": "stream"
    }
   ],
   "source": [
    "error, function=get_result(data,data_parts=4,learning_rate=0.0001,number_iterations=100)\n",
    "print(to_string(error))\n",
    "print(function)"
   ],
   "metadata": {
    "collapsed": false,
    "pycharm": {
     "name": "#%%\n",
     "is_executing": false
    }
   }
  },
  {
   "cell_type": "code",
   "execution_count": 5,
   "outputs": [
    {
     "name": "stdout",
     "text": [
      "0.012\n",
      "f(a, b, c, d) = 2.000 * a + 4.000 * b + 3.000 * c + -2.000 * d + 3.012\n"
     ],
     "output_type": "stream"
    }
   ],
   "source": [
    "error, function=get_result(data,data_parts=4,learning_rate=0.0001,number_iterations=1000)\n",
    "print(to_string(error))\n",
    "print(function)\n"
   ],
   "metadata": {
    "collapsed": false,
    "pycharm": {
     "name": "#%%\n",
     "is_executing": false
    }
   }
  },
  {
   "cell_type": "code",
   "execution_count": 6,
   "outputs": [
    {
     "name": "stdout",
     "text": [
      "0.009\n",
      "f(a, b, c, d) = 2.000 * a + 4.000 * b + 3.000 * c + -2.000 * d + 3.009\n"
     ],
     "output_type": "stream"
    }
   ],
   "source": [
    "error, function=get_result(data,data_parts=4,learning_rate=0.0001,number_iterations=10000)\n",
    "print(to_string(error))\n",
    "print(function)"
   ],
   "metadata": {
    "collapsed": false,
    "pycharm": {
     "name": "#%%\n",
     "is_executing": false
    }
   }
  },
  {
   "cell_type": "code",
   "execution_count": 7,
   "outputs": [
    {
     "name": "stdout",
     "text": [
      "53.871\n",
      "f(a, b, c, d) = 1.249 * a + 2.419 * b + 1.567 * c + -1.278 * d + 3.006\n"
     ],
     "output_type": "stream"
    }
   ],
   "source": [
    "error, function=get_result(data,data_parts=4,learning_rate=0.0001,number_iterations=10)\n",
    "print(to_string(error))\n",
    "print(function)"
   ],
   "metadata": {
    "collapsed": false,
    "pycharm": {
     "name": "#%%\n",
     "is_executing": false
    }
   }
  },
  {
   "cell_type": "code",
   "execution_count": 8,
   "outputs": [
    {
     "name": "stdout",
     "text": [
      "0.000\n",
      "f(a, b, c, d) = 2.000 * a + 4.000 * b + 3.000 * c + -2.000 * d + 3.000\n"
     ],
     "output_type": "stream"
    }
   ],
   "source": [
    "error, function=get_result(data,data_parts=4,learning_rate=0.0001,number_iterations=100000)\n",
    "print(to_string(error))\n",
    "print(function)"
   ],
   "metadata": {
    "collapsed": false,
    "pycharm": {
     "name": "#%%\n",
     "is_executing": false
    }
   }
  },
  {
   "cell_type": "code",
   "execution_count": 9,
   "outputs": [
    {
     "name": "stdout",
     "text": [
      "0.831\n",
      "f(a, b, c, d) = 2.003 * a + 3.983 * b + 2.974 * c + -1.989 * d + 3.023\n"
     ],
     "output_type": "stream"
    }
   ],
   "source": [
    "error, function=get_result(data,data_parts=4,learning_rate=0.0005,number_iterations=10)\n",
    "print(to_string(error))\n",
    "print(function)"
   ],
   "metadata": {
    "collapsed": false,
    "pycharm": {
     "name": "#%%\n",
     "is_executing": false
    }
   }
  },
  {
   "cell_type": "code",
   "execution_count": 10,
   "outputs": [
    {
     "name": "stdout",
     "text": [
      "0.013\n",
      "f(a, b, c, d) = 2.000 * a + 4.000 * b + 3.000 * c + -2.000 * d + 3.013\n"
     ],
     "output_type": "stream"
    }
   ],
   "source": [
    "error, function=get_result(data,data_parts=4,learning_rate=0.0005,number_iterations=100)\n",
    "print(to_string(error))\n",
    "print(function)"
   ],
   "metadata": {
    "collapsed": false,
    "pycharm": {
     "name": "#%%\n",
     "is_executing": false
    }
   }
  },
  {
   "cell_type": "code",
   "execution_count": 11,
   "outputs": [
    {
     "name": "stdout",
     "text": [
      "0.007\n",
      "f(a, b, c, d) = 2.000 * a + 4.000 * b + 3.000 * c + -2.000 * d + 3.007\n"
     ],
     "output_type": "stream"
    }
   ],
   "source": [
    "error, function=get_result(data,data_parts=4,learning_rate=0.0005,number_iterations=1000)\n",
    "print(to_string(error))\n",
    "print(function)"
   ],
   "metadata": {
    "collapsed": false,
    "pycharm": {
     "name": "#%%\n",
     "is_executing": false
    }
   }
  },
  {
   "cell_type": "code",
   "execution_count": 1,
   "outputs": [
    {
     "traceback": [
      "\u001b[1;31m---------------------------------------------------------------------------\u001b[0m",
      "\u001b[1;31mNameError\u001b[0m                                 Traceback (most recent call last)",
      "\u001b[1;32m<ipython-input-1-6d729f4c4f26>\u001b[0m in \u001b[0;36m<module>\u001b[1;34m\u001b[0m\n\u001b[1;32m----> 1\u001b[1;33m \u001b[0merror\u001b[0m\u001b[1;33m,\u001b[0m \u001b[0mfunction\u001b[0m\u001b[1;33m=\u001b[0m\u001b[0mget_result\u001b[0m\u001b[1;33m(\u001b[0m\u001b[0mdata\u001b[0m\u001b[1;33m,\u001b[0m\u001b[0mdata_parts\u001b[0m\u001b[1;33m=\u001b[0m\u001b[1;36m4\u001b[0m\u001b[1;33m,\u001b[0m\u001b[0mlearning_rate\u001b[0m\u001b[1;33m=\u001b[0m\u001b[1;36m0.0005\u001b[0m\u001b[1;33m,\u001b[0m\u001b[0mnumber_iterations\u001b[0m\u001b[1;33m=\u001b[0m\u001b[1;36m10000\u001b[0m\u001b[1;33m)\u001b[0m\u001b[1;33m\u001b[0m\u001b[1;33m\u001b[0m\u001b[0m\n\u001b[0m\u001b[0;32m      2\u001b[0m \u001b[0mprint\u001b[0m\u001b[1;33m(\u001b[0m\u001b[0mto_string\u001b[0m\u001b[1;33m(\u001b[0m\u001b[0merror\u001b[0m\u001b[1;33m)\u001b[0m\u001b[1;33m)\u001b[0m\u001b[1;33m\u001b[0m\u001b[1;33m\u001b[0m\u001b[0m\n\u001b[0;32m      3\u001b[0m \u001b[0mprint\u001b[0m\u001b[1;33m(\u001b[0m\u001b[0mfunction\u001b[0m\u001b[1;33m)\u001b[0m\u001b[1;33m\u001b[0m\u001b[1;33m\u001b[0m\u001b[0m\n\u001b[0;32m      4\u001b[0m \u001b[1;33m\u001b[0m\u001b[0m\n",
      "\u001b[1;31mNameError\u001b[0m: name 'get_result' is not defined"
     ],
     "ename": "NameError",
     "evalue": "name 'get_result' is not defined",
     "output_type": "error"
    }
   ],
   "source": [
    "error, function=get_result(data,data_parts=4,learning_rate=0.0005,number_iterations=10000)\n",
    "print(to_string(error))\n",
    "print(function)\n"
   ],
   "metadata": {
    "collapsed": false,
    "pycharm": {
     "name": "#%%\n",
     "is_executing": false
    }
   }
  }
 ],
 "metadata": {
  "kernelspec": {
   "display_name": "Python 3",
   "language": "python",
   "name": "python3"
  },
  "language_info": {
   "codemirror_mode": {
    "name": "ipython",
    "version": 2
   },
   "file_extension": ".py",
   "mimetype": "text/x-python",
   "name": "python",
   "nbconvert_exporter": "python",
   "pygments_lexer": "ipython2",
   "version": "2.7.6"
  },
  "pycharm": {
   "stem_cell": {
    "cell_type": "raw",
    "source": [],
    "metadata": {
     "collapsed": false
    }
   }
  }
 },
 "nbformat": 4,
 "nbformat_minor": 0
}