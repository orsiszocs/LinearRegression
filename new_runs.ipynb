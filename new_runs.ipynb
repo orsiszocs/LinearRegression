{
 "cells": [
  {
   "cell_type": "code",
   "execution_count": 2,
   "metadata": {
    "collapsed": true,
    "pycharm": {
     "is_executing": false
    }
   },
   "outputs": [],
   "source": [
    "from controller import to_string,least_squares, gradient_descent, read_file\n",
    "data=read_file()"
   ]
  },
  {
   "cell_type": "code",
   "execution_count": 3,
   "outputs": [
    {
     "name": "stdout",
     "text": [
      "5.946\n",
      "f(a, b, c, d, e) = 2.002 * a + 4.003 * b + 3.003 * c + -2.006 * d + -1.001 * e + 0.552\n"
     ],
     "output_type": "stream"
    }
   ],
   "source": [
    "error,function=gradient_descent(data,0.002,100)\n",
    "print(to_string(error))\n",
    "print(function)"
   ],
   "metadata": {
    "collapsed": false,
    "pycharm": {
     "name": "#%%\n",
     "is_executing": false
    }
   }
  },
  {
   "cell_type": "code",
   "execution_count": 4,
   "outputs": [
    {
     "name": "stdout",
     "text": [
      "0.166\n",
      "f(a, b, c, d, e) = 2.000 * a + 4.000 * b + 3.001 * c + -2.001 * d + -1.000 * e + 2.591\n"
     ],
     "output_type": "stream"
    }
   ],
   "source": [
    "error,function=gradient_descent(data,0.002,1000)\n",
    "print(to_string(error))\n",
    "print(function)\n"
   ],
   "metadata": {
    "collapsed": false,
    "pycharm": {
     "name": "#%%\n",
     "is_executing": false
    }
   }
  },
  {
   "cell_type": "code",
   "execution_count": 5,
   "outputs": [
    {
     "name": "stdout",
     "text": [
      "0.000\n",
      "f(a, b, c, d, e) = 2.000 * a + 4.000 * b + 3.000 * c + -2.000 * d + -1.000 * e + 3.000\n"
     ],
     "output_type": "stream"
    }
   ],
   "source": [
    "error,function=gradient_descent(data,0.002,10000)\n",
    "print(to_string(error))\n",
    "print(function)\n"
   ],
   "metadata": {
    "collapsed": false,
    "pycharm": {
     "name": "#%%\n",
     "is_executing": false
    }
   }
  },
  {
   "cell_type": "code",
   "execution_count": 6,
   "outputs": [
    {
     "name": "stdout",
     "text": [
      "8.675\n",
      "f(a, b, c, d, e) = 2.002 * a + 4.002 * b + 3.002 * c + -2.007 * d + -1.001 * e + 0.044\n"
     ],
     "output_type": "stream"
    }
   ],
   "source": [
    "error,function=gradient_descent(data,0.0001,100)\n",
    "print(to_string(error))\n",
    "print(function)\n"
   ],
   "metadata": {
    "collapsed": false,
    "pycharm": {
     "name": "#%%\n",
     "is_executing": false
    }
   }
  },
  {
   "cell_type": "code",
   "execution_count": 7,
   "outputs": [
    {
     "name": "stdout",
     "text": [
      "7.254\n",
      "f(a, b, c, d, e) = 2.002 * a + 4.003 * b + 3.003 * c + -2.006 * d + -1.001 * e + 0.297\n"
     ],
     "output_type": "stream"
    }
   ],
   "source": [
    "error,function=gradient_descent(data,0.0001,1000)\n",
    "print(to_string(error))\n",
    "print(function)\n"
   ],
   "metadata": {
    "collapsed": false,
    "pycharm": {
     "name": "#%%\n",
     "is_executing": false
    }
   }
  },
  {
   "cell_type": "code",
   "execution_count": 12,
   "outputs": [
    {
     "name": "stdout",
     "text": [
      "1.215\n",
      "f(a, b, c, d, e) = 2.001 * a + 4.001 * b + 3.001 * c + -2.003 * d + -1.000 * e + 1.893\n"
     ],
     "output_type": "stream"
    }
   ],
   "source": [
    "error,function=gradient_descent(data,0.0001,10000)\n",
    "print(to_string(error))\n",
    "print(function)\n"
   ],
   "metadata": {
    "collapsed": false,
    "pycharm": {
     "name": "#%%\n",
     "is_executing": false
    }
   }
  },
  {
   "cell_type": "code",
   "execution_count": 11,
   "outputs": [
    {
     "name": "stdout",
     "text": [
      "0.000\n",
      "f(a, b, c, d, e) = 2.000 * a + 4.000 * b + 3.000 * c + -2.000 * d + -1.000 * e + 3.000\n"
     ],
     "output_type": "stream"
    }
   ],
   "source": [
    "error,function=gradient_descent(data,0.0001,100000)\n",
    "print(to_string(error))\n",
    "print(function)\n"
   ],
   "metadata": {
    "collapsed": false,
    "pycharm": {
     "name": "#%%\n",
     "is_executing": false
    }
   }
  },
  {
   "cell_type": "code",
   "execution_count": 10,
   "outputs": [
    {
     "name": "stdout",
     "text": [
      "0.000\n",
      "f(a, b, c, d, e) = 2.000 * a + 4.000 * b + 3.000 * c + -2.000 * d + -1.000 * e + 3.000\n"
     ],
     "output_type": "stream"
    }
   ],
   "source": [
    "error,function=least_squares(data)\n",
    "print(to_string(error))\n",
    "print(function)"
   ],
   "metadata": {
    "collapsed": false,
    "pycharm": {
     "name": "#%%\n",
     "is_executing": false
    }
   }
  }
 ],
 "metadata": {
  "kernelspec": {
   "display_name": "Python 3",
   "language": "python",
   "name": "python3"
  },
  "language_info": {
   "codemirror_mode": {
    "name": "ipython",
    "version": 2
   },
   "file_extension": ".py",
   "mimetype": "text/x-python",
   "name": "python",
   "nbconvert_exporter": "python",
   "pygments_lexer": "ipython2",
   "version": "2.7.6"
  },
  "pycharm": {
   "stem_cell": {
    "cell_type": "raw",
    "source": [],
    "metadata": {
     "collapsed": false
    }
   }
  }
 },
 "nbformat": 4,
 "nbformat_minor": 0
}